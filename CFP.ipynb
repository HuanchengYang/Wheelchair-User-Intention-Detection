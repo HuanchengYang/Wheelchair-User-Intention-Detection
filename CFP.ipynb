{
 "cells": [
  {
   "cell_type": "markdown",
   "metadata": {},
   "source": [
    "## CFP: Detecting Wheelchair Chair User Intention using Algorithms"
   ]
  },
  {
   "cell_type": "code",
   "execution_count": 44,
   "metadata": {},
   "outputs": [],
   "source": [
    "# Import libraries\n",
    "%matplotlib inline\n",
    "\n",
    "import os\n",
    "import numpy as np\n",
    "import pandas as pd\n",
    "import matplotlib.pyplot as plt\n",
    "from utils import GetAccelerationArr\n",
    "from sklearn.linear_model import LogisticRegression\n",
    "from sklearn.ensemble import ExtraTreesClassifier\n",
    "import matplotlib.pyplot as plt"
   ]
  },
  {
   "cell_type": "code",
   "execution_count": 35,
   "metadata": {},
   "outputs": [],
   "source": [
    "fileNames = ['RightTurn1.csv','RightTurn2.csv','Nov_11_16_straight1_processed data.csv']\n",
    "x_train = pd.DataFrame()\n",
    "y_train = pd.DataFrame()"
   ]
  },
  {
   "cell_type": "code",
   "execution_count": 36,
   "metadata": {},
   "outputs": [],
   "source": [
    "for filename in fileNames:\n",
    "    dataset = pd.read_csv('./Matlab Read IOS Sensor/pre-processed data/'+filename)\n",
    "    newarr = GetAccelerationArr(dataset['Angular Velocity Z(Left Wheel)'].values,0.1)\n",
    "    dataset['Angular Acceleration Z(Left Wheel)']  = pd.Series(newarr)\n",
    "    newarr = GetAccelerationArr(dataset['Angular Velocity Z(Right Wheel)'].values,0.1)\n",
    "    dataset['Angular Acceleration Z(Right Wheel)']  = pd.Series(newarr)\n",
    "    dataset = dataset[dataset['Angular Acceleration Z(Left Wheel)'].notnull()]\n",
    "    x_train_temp = dataset.drop('Intention',axis = 1)\n",
    "    y_train_temp = dataset['Intention']\n",
    "    x_train_temp['Difference in Velocity'] = x_train_temp['Angular Velocity Z(Left Wheel)'] - x_train_temp['Angular Velocity Z(Right Wheel)']\n",
    "    x_train_temp['Difference in Acceleration'] = x_train_temp['Angular Acceleration Z(Left Wheel)'] - x_train_temp['Angular Acceleration Z(Right Wheel)']\n",
    "    x_train = pd.concat([x_train,x_train_temp])\n",
    "    y_train = pd.concat([y_train,y_train_temp])"
   ]
  },
  {
   "cell_type": "code",
   "execution_count": 43,
   "metadata": {},
   "outputs": [
    {
     "data": {
      "text/html": [
       "<div>\n",
       "<style scoped>\n",
       "    .dataframe tbody tr th:only-of-type {\n",
       "        vertical-align: middle;\n",
       "    }\n",
       "\n",
       "    .dataframe tbody tr th {\n",
       "        vertical-align: top;\n",
       "    }\n",
       "\n",
       "    .dataframe thead th {\n",
       "        text-align: right;\n",
       "    }\n",
       "</style>\n",
       "<table border=\"1\" class=\"dataframe\">\n",
       "  <thead>\n",
       "    <tr style=\"text-align: right;\">\n",
       "      <th></th>\n",
       "      <th>Angular Velocity Z(Left Wheel)</th>\n",
       "      <th>Angular Velocity Z(Right Wheel)</th>\n",
       "      <th>Angular Acceleration Z(Left Wheel)</th>\n",
       "      <th>Angular Acceleration Z(Right Wheel)</th>\n",
       "      <th>Difference in Velocity</th>\n",
       "      <th>Difference in Acceleration</th>\n",
       "    </tr>\n",
       "  </thead>\n",
       "  <tbody>\n",
       "    <tr>\n",
       "      <th>2</th>\n",
       "      <td>0.58696</td>\n",
       "      <td>0.64266</td>\n",
       "      <td>3.120212</td>\n",
       "      <td>3.542342</td>\n",
       "      <td>-0.05570</td>\n",
       "      <td>-0.422130</td>\n",
       "    </tr>\n",
       "    <tr>\n",
       "      <th>3</th>\n",
       "      <td>0.88984</td>\n",
       "      <td>0.99561</td>\n",
       "      <td>3.089750</td>\n",
       "      <td>3.771667</td>\n",
       "      <td>-0.10577</td>\n",
       "      <td>-0.681917</td>\n",
       "    </tr>\n",
       "    <tr>\n",
       "      <th>4</th>\n",
       "      <td>1.20550</td>\n",
       "      <td>1.39710</td>\n",
       "      <td>3.058783</td>\n",
       "      <td>4.241150</td>\n",
       "      <td>-0.19160</td>\n",
       "      <td>-1.182367</td>\n",
       "    </tr>\n",
       "    <tr>\n",
       "      <th>5</th>\n",
       "      <td>1.51300</td>\n",
       "      <td>1.80750</td>\n",
       "      <td>3.458700</td>\n",
       "      <td>3.214508</td>\n",
       "      <td>-0.29450</td>\n",
       "      <td>0.244192</td>\n",
       "    </tr>\n",
       "    <tr>\n",
       "      <th>6</th>\n",
       "      <td>1.90170</td>\n",
       "      <td>2.04840</td>\n",
       "      <td>3.967417</td>\n",
       "      <td>2.548083</td>\n",
       "      <td>-0.14670</td>\n",
       "      <td>1.419333</td>\n",
       "    </tr>\n",
       "  </tbody>\n",
       "</table>\n",
       "</div>"
      ],
      "text/plain": [
       "   Angular Velocity Z(Left Wheel)  Angular Velocity Z(Right Wheel)  \\\n",
       "2                         0.58696                          0.64266   \n",
       "3                         0.88984                          0.99561   \n",
       "4                         1.20550                          1.39710   \n",
       "5                         1.51300                          1.80750   \n",
       "6                         1.90170                          2.04840   \n",
       "\n",
       "   Angular Acceleration Z(Left Wheel)  Angular Acceleration Z(Right Wheel)  \\\n",
       "2                            3.120212                             3.542342   \n",
       "3                            3.089750                             3.771667   \n",
       "4                            3.058783                             4.241150   \n",
       "5                            3.458700                             3.214508   \n",
       "6                            3.967417                             2.548083   \n",
       "\n",
       "   Difference in Velocity  Difference in Acceleration  \n",
       "2                -0.05570                   -0.422130  \n",
       "3                -0.10577                   -0.681917  \n",
       "4                -0.19160                   -1.182367  \n",
       "5                -0.29450                    0.244192  \n",
       "6                -0.14670                    1.419333  "
      ]
     },
     "execution_count": 43,
     "metadata": {},
     "output_type": "execute_result"
    }
   ],
   "source": [
    "x_train.head()"
   ]
  },
  {
   "cell_type": "code",
   "execution_count": 37,
   "metadata": {},
   "outputs": [],
   "source": [
    "y_train = y_train.values.ravel()"
   ]
  },
  {
   "cell_type": "code",
   "execution_count": 39,
   "metadata": {},
   "outputs": [
    {
     "data": {
      "text/plain": [
       "LogisticRegression(C=1.0, class_weight=None, dual=False, fit_intercept=True,\n",
       "          intercept_scaling=1, max_iter=100, multi_class='multinomial',\n",
       "          n_jobs=1, penalty='l2', random_state=None, solver='lbfgs',\n",
       "          tol=0.0001, verbose=0, warm_start=False)"
      ]
     },
     "execution_count": 39,
     "metadata": {},
     "output_type": "execute_result"
    }
   ],
   "source": [
    "model = LogisticRegression(multi_class='multinomial',solver='lbfgs')\n",
    "model.fit(x_train,y_train)"
   ]
  },
  {
   "cell_type": "code",
   "execution_count": null,
   "metadata": {},
   "outputs": [],
   "source": []
  },
  {
   "cell_type": "code",
   "execution_count": 40,
   "metadata": {},
   "outputs": [
    {
     "name": "stdout",
     "output_type": "stream",
     "text": [
      "0.9646643109540636\n"
     ]
    }
   ],
   "source": [
    "print(np.mean(model.predict(x_train)==y_train))"
   ]
  },
  {
   "cell_type": "code",
   "execution_count": 41,
   "metadata": {},
   "outputs": [
    {
     "data": {
      "text/plain": [
       "ExtraTreesClassifier(bootstrap=False, class_weight=None, criterion='gini',\n",
       "           max_depth=None, max_features='auto', max_leaf_nodes=None,\n",
       "           min_impurity_decrease=0.0, min_impurity_split=None,\n",
       "           min_samples_leaf=1, min_samples_split=2,\n",
       "           min_weight_fraction_leaf=0.0, n_estimators=10, n_jobs=1,\n",
       "           oob_score=False, random_state=None, verbose=0, warm_start=False)"
      ]
     },
     "execution_count": 41,
     "metadata": {},
     "output_type": "execute_result"
    }
   ],
   "source": [
    "model = ExtraTreesClassifier();\n",
    "model.fit(x_train,y_train)\n"
   ]
  },
  {
   "cell_type": "code",
   "execution_count": 45,
   "metadata": {},
   "outputs": [
    {
     "name": "stdout",
     "output_type": "stream",
     "text": [
      "1.0\n"
     ]
    }
   ],
   "source": [
    "print(np.mean(model.predict(x_train)==y_train))"
   ]
  },
  {
   "cell_type": "code",
   "execution_count": null,
   "metadata": {},
   "outputs": [],
   "source": []
  }
 ],
 "metadata": {
  "kernelspec": {
   "display_name": "Python 3",
   "language": "python",
   "name": "python3"
  },
  "language_info": {
   "codemirror_mode": {
    "name": "ipython",
    "version": 3
   },
   "file_extension": ".py",
   "mimetype": "text/x-python",
   "name": "python",
   "nbconvert_exporter": "python",
   "pygments_lexer": "ipython3",
   "version": "3.6.5"
  }
 },
 "nbformat": 4,
 "nbformat_minor": 2
}
